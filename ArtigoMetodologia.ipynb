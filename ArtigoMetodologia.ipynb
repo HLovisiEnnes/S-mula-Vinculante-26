{
 "cells": [
  {
   "cell_type": "code",
   "execution_count": 1,
   "metadata": {},
   "outputs": [],
   "source": [
    "import pandas as pd\n",
    "import matplotlib.pyplot as plt\n",
    "import numpy as np\n",
    "import mglearn\n",
    "\n",
    "#pacote que permite a interpolção de pontos\n",
    "from scipy import interpolate\n",
    "\n",
    "#implementa melhorias de visualização (opcional)\n",
    "import seaborn as sns\n",
    "sns.set()"
   ]
  },
  {
   "cell_type": "code",
   "execution_count": 2,
   "metadata": {},
   "outputs": [],
   "source": [
    "#aumenta a fonte padrão de todos os labels nos gráficos daqui para frente\n",
    "plt.rc('axes', labelsize= 14)    \n",
    "plt.rc('xtick', labelsize=14)   \n",
    "plt.rc('ytick', labelsize=14)    \n",
    "plt.rc('legend', fontsize=14) "
   ]
  },
  {
   "cell_type": "code",
   "execution_count": 3,
   "metadata": {},
   "outputs": [
    {
     "name": "stdout",
     "output_type": "stream",
     "text": [
      "Número de documentos assinaladas como \"Direito Penal\" ou \"Direito Processual Penal:  151765\n"
     ]
    }
   ],
   "source": [
    "#arquivo csv com todas as decisões assinaladas como \"Direito Penal\" ou \"Direito Processual Penal\"\n",
    "data = pd.read_csv('data_criminal')\n",
    "print('Número de documentos assinaladas como \"Direito Penal\" ou \"Direito Processual Penal: ', len(data))\n",
    "\n",
    "#arquivo csv com metadados dos documentos acima (data, ano, decisão monogrática e ramo do Direito)\n",
    "meta = pd.read_csv('metadata_criminal')\n",
    "\n",
    "#arquivo csv com metadados de todos os documentos que citam alguma Súmula Vinculante, independente do ramo do Direito\n",
    "meta_bp = pd.read_csv('metadata.csv')"
   ]
  },
  {
   "cell_type": "code",
   "execution_count": 4,
   "metadata": {},
   "outputs": [],
   "source": [
    "#metadados das decisões anteriores a criação da SV 26\n",
    "meta_menor_2009 = meta[meta['year'] < 2009]\n",
    "\n",
    "#metadados das decisões posteriores a criação da SV 26\n",
    "meta_maior_2009 = meta[meta['year'] >= 2009]"
   ]
  },
  {
   "cell_type": "code",
   "execution_count": 5,
   "metadata": {},
   "outputs": [
    {
     "name": "stdout",
     "output_type": "stream",
     "text": [
      "Número total de documentos que citam a SV 26:  954\n"
     ]
    }
   ],
   "source": [
    "#cria em 'titles' lista de todos os documentos que citam a SV 26\n",
    "titles = []\n",
    "bps = list(meta_bp['bp'])\n",
    "list_names = meta_bp['doc_id']\n",
    "for i, bp in enumerate(bps):\n",
    "    if '26' in bp:\n",
    "        titles.append(list_names[i])\n",
    "print('Número total de documentos que citam a SV 26: ', len(titles))"
   ]
  },
  {
   "cell_type": "code",
   "execution_count": 6,
   "metadata": {},
   "outputs": [
    {
     "name": "stdout",
     "output_type": "stream",
     "text": [
      "Número total de documentos que citam a SV 26:  954\n"
     ]
    }
   ],
   "source": [
    "#cria em 'titles' lista de todos os documentos que citam a SV 26\n",
    "titles = []\n",
    "bps = list(meta_bp['bp'])\n",
    "list_names = meta_bp['doc_id']\n",
    "for i, bp in enumerate(bps):\n",
    "    if '26' in bp:\n",
    "        titles.append(list_names[i])\n",
    "print('Número total de documentos que citam a SV 26: ', len(titles))"
   ]
  },
  {
   "cell_type": "code",
   "execution_count": 7,
   "metadata": {},
   "outputs": [
    {
     "name": "stdout",
     "output_type": "stream",
     "text": [
      "Número total de documentos de \"Direito Penal\" ou \"Direito Processual Penal\" que citam a SV 26:  565\n"
     ]
    }
   ],
   "source": [
    "#seleciona os textos marcados como \"Direito Penal\" ou \"Direito Processual Penal\" que citam a SV 26\n",
    "texts_26 = data[data['title'].isin(titles)]\n",
    "meta_26 = meta[meta['title'].isin(titles)]\n",
    "print('Número total de documentos de \"Direito Penal\" ou \"Direito Processual Penal\" que citam a SV 26: ', len(texts_26))"
   ]
  },
  {
   "cell_type": "code",
   "execution_count": 8,
   "metadata": {},
   "outputs": [
    {
     "name": "stdout",
     "output_type": "stream",
     "text": [
      "Número total de documentos de \"Direito Penal\" ou \"Direito Processual Penal\" que não citam a SV 26:  151200\n"
     ]
    }
   ],
   "source": [
    "#seleciona os textos marcados como \"Direito Penal\" ou \"Direito Processual Penal\" que *não* citam a SV 26\n",
    "texts_n_26 = data[~data['title'].isin(titles)]\n",
    "print('Número total de documentos de \"Direito Penal\" ou \"Direito Processual Penal\" que não citam a SV 26: ', len(texts_n_26))"
   ]
  },
  {
   "cell_type": "code",
   "execution_count": 9,
   "metadata": {},
   "outputs": [
    {
     "name": "stderr",
     "output_type": "stream",
     "text": [
      "<ipython-input-9-3c123e4e11b6>:5: SettingWithCopyWarning: \n",
      "A value is trying to be set on a copy of a slice from a DataFrame.\n",
      "Try using .loc[row_indexer,col_indexer] = value instead\n",
      "\n",
      "See the caveats in the documentation: https://pandas.pydata.org/pandas-docs/stable/user_guide/indexing.html#returning-a-view-versus-a-copy\n",
      "  meta_26['month'] = monht_list\n"
     ]
    }
   ],
   "source": [
    "#cria uma lista de todos os meses de 2004 a 2018, ignorando apenas o dia específico\n",
    "monht_list = []\n",
    "for date in meta_26['date']:\n",
    "    monht_list.append(date.split('-')[1] + '-' + date.split('-')[0])\n",
    "meta_26['month'] = monht_list"
   ]
  },
  {
   "cell_type": "code",
   "execution_count": 10,
   "metadata": {},
   "outputs": [],
   "source": [
    "month_list_af = ['0'+str(month) + '-' + str(year) if len(str(month)) == 1 else str(month) + '-' + str(year) for year in range(2010,2019) for month in range(1,13)]"
   ]
  },
  {
   "cell_type": "code",
   "execution_count": 11,
   "metadata": {},
   "outputs": [],
   "source": [
    "cits_month = []\n",
    "for month in month_list_af:\n",
    "    cits_month.append(len(meta_26[meta_26['month'] == month]))"
   ]
  },
  {
   "cell_type": "code",
   "execution_count": 12,
   "metadata": {},
   "outputs": [],
   "source": [
    "def moving_avarage_builder(citations_month, month_list):\n",
    "    moving_av = [0 for i in range(3)]\n",
    "    for i in range(3, len(citations_month)-3):\n",
    "        moving_av.append(np.mean(citations_month[i-3:i+3]))\n",
    "    moving_av.append(np.mean(citations_month[-6:]))\n",
    "    moving_av.append(np.mean(citations_month[-6:]))\n",
    "    moving_av.append(np.mean(citations_month[-6:]))\n",
    "    return moving_av"
   ]
  },
  {
   "cell_type": "code",
   "execution_count": 13,
   "metadata": {},
   "outputs": [],
   "source": [
    "int_data = moving_avarage_builder(cits_month, month_list_af)\n",
    "tck = interpolate.splrep(range(len(month_list_af)), int_data, s=0)\n",
    "xfit = np.linspace(0, len(month_list_af), 100)\n",
    "yfit = interpolate.splev(xfit, tck, der=0)"
   ]
  },
  {
   "cell_type": "code",
   "execution_count": 14,
   "metadata": {},
   "outputs": [
    {
     "data": {
      "image/png": "[encoded data removed]",
      "text/plain": [
       "<Figure size 1440x360 with 1 Axes>"
      ]
     },
     "metadata": {},
     "output_type": "display_data"
    }
   ],
   "source": [
    "fig, ax = plt.subplots(figsize = (20, 5))\n",
    "plt.suptitle('Número de documentos que citam\\na SV 26', fontsize = 20)\n",
    "\n",
    "\n",
    "ax.plot(month_list_af, cits_month,'-o' ,label = 'Citações da SV 26 por mês', alpha = 0.7)\n",
    "ax.plot(xfit, yfit, '--', c= 'orange', label = 'Média móvel')\n",
    "    \n",
    "start, end = ax.get_xlim()\n",
    "ax.tick_params(axis='x', rotation=45)\n",
    "ax.set_xticks(np.arange(start, end, 6))\n",
    "ax.legend()\n",
    "\n",
    "plt.savefig('series_cit_mes.png', bbox_inches = 'tight')\n",
    "plt.show()"
   ]
  },
  {
   "cell_type": "markdown",
   "metadata": {},
   "source": [
    "# Seção 3.1"
   ]
  },
  {
   "cell_type": "markdown",
   "metadata": {},
   "source": [
    "# Seção 3.2"
   ]
  },
  {
   "cell_type": "code",
   "execution_count": 15,
   "metadata": {},
   "outputs": [],
   "source": [
    "#útil para a manipulação de strings, em especial, para retirar pontuação\n",
    "import string\n",
    "\n",
    "#versão em Sci-kit learn de \"bag-of-words\"\n",
    "from sklearn.feature_extraction.text import CountVectorizer \n",
    "\n",
    "#versão em Sci-kit learn de TF IDF\n",
    "from sklearn.feature_extraction.text import TfidfVectorizer\n",
    "\n",
    "#importa algoritmo para validação cruzada\n",
    "from sklearn.model_selection import cross_val_score\n",
    "\n",
    "#importa algoritmo de escolha de melhor modelo\n",
    "from sklearn.model_selection import GridSearchCV\n",
    "\n",
    "#importa pipeline para utilização sequencial vetorização + modelo\n",
    "from sklearn.pipeline import make_pipeline\n",
    "\n",
    "#importa regressão logística\n",
    "from sklearn.linear_model import LogisticRegression\n",
    "\n",
    "#utiliza a mesma seed para ter resultados iguais sempre que rodar o notebook\n",
    "seed = 0\n",
    "import random \n",
    "random.seed(seed)\n",
    "\n",
    "#importa as stop words em português, isto é, palavras a ser ignoradas pelo vetorizador\n",
    "from nltk.corpus import stopwords\n",
    "pt_stp_words = stopwords.words('portuguese')\n",
    "\n",
    "#pacote geral de estatística\n",
    "import scipy.stats as stats"
   ]
  },
  {
   "cell_type": "code",
   "execution_count": 16,
   "metadata": {},
   "outputs": [],
   "source": [
    "#modificação da função .tools.visualize_coefficients de mglearn para português\n",
    "#https://github.com/amueller/mglearn/tree/master/mglearn\n",
    "\n",
    "def visualize_coefficients(coefficients, feature_names, n_top_features=25):\n",
    "    \"\"\"Visualize coefficients of a linear model.\n",
    "    Parameters\n",
    "    ----------\n",
    "    coefficients : nd-array, shape (n_features,)\n",
    "        Model coefficients.\n",
    "    feature_names : list or nd-array of strings, shape (n_features,)\n",
    "        Feature names for labeling the coefficients.\n",
    "    n_top_features : int, default=25\n",
    "        How many features to show. The function will show the largest (most\n",
    "        positive) and smallest (most negative)  n_top_features coefficients,\n",
    "        for a total of 2 * n_top_features coefficients.\n",
    "    \"\"\"\n",
    "    coefficients = coefficients.squeeze()\n",
    "    if coefficients.ndim > 1:\n",
    "        # this is not a row or column vector\n",
    "        raise ValueError(\"coeffients must be 1d array or column vector, got\"\n",
    "                         \" shape {}\".format(coefficients.shape))\n",
    "    coefficients = coefficients.ravel()\n",
    "\n",
    "    if len(coefficients) != len(feature_names):\n",
    "        raise ValueError(\"Number of coefficients {} doesn't match number of\"\n",
    "                         \"feature names {}.\".format(len(coefficients),\n",
    "                                                    len(feature_names)))\n",
    "    # get coefficients with large absolute values\n",
    "    coef = coefficients.ravel()\n",
    "    positive_coefficients = np.argsort(coef)[-n_top_features:]\n",
    "    negative_coefficients = np.argsort(coef)[:n_top_features]\n",
    "    interesting_coefficients = np.hstack([negative_coefficients,\n",
    "                                          positive_coefficients])\n",
    "    # plot them\n",
    "    plt.figure(figsize=(15, 5))\n",
    "    colors = ['r' if c < 0 else 'b'\n",
    "              for c in coef[interesting_coefficients]]\n",
    "    plt.bar(np.arange(2 * n_top_features), coef[interesting_coefficients],\n",
    "            color=colors)\n",
    "    feature_names = np.array(feature_names)\n",
    "    plt.subplots_adjust(bottom=0.3)\n",
    "    plt.xticks(np.arange(1, 1 + 2 * n_top_features),\n",
    "               feature_names[interesting_coefficients], rotation=60,\n",
    "               ha=\"right\")\n",
    "    plt.ylabel(\"Magnitude do coeficiente\", fontsize = 13)\n",
    "    plt.xlabel(\"Palavra\", fontsize = 13)\n",
    "    plt.savefig('coefs.png')"
   ]
  },
  {
   "cell_type": "code",
   "execution_count": 17,
   "metadata": {},
   "outputs": [
    {
     "name": "stdout",
     "output_type": "stream",
     "text": [
      "Tamnho X1:  565\n",
      "Tamnho X0:  565\n",
      "Tamnho X0_ensemble:  1695\n"
     ]
    }
   ],
   "source": [
    "X1 = list(texts_26['raw_text'])\n",
    "\n",
    "#faz uma lista de índices dos documentos que não citam a SV 26\n",
    "indexes_n_26 = list(range(0, len(texts_n_26)))\n",
    "\n",
    "#escolhe uma amostra de mesmo tamanho de documentos que não citam a SV 26\n",
    "indexes_X0 = random.sample(indexes_n_26, len(X1))\n",
    "X0 = list(texts_n_26.iloc[indexes_X0]['raw_text'])\n",
    "\n",
    "#escolhe uma amostra três vezes maior de documentos que não citam a SV 26 para fazer ensemble, sendo assim\n",
    "#de mesmo tamanho cada componente do ensemble\n",
    "indexes_X0_ensemble = random.sample(indexes_n_26, 3*len(X1))\n",
    "X0_ensemble = list(texts_n_26.iloc[indexes_X0_ensemble]['raw_text'])\n",
    "\n",
    "print('Tamnho X1: ', len(X1))\n",
    "print('Tamnho X0: ', len(X0))\n",
    "print('Tamnho X0_ensemble: ', len(X0_ensemble))"
   ]
  },
  {
   "cell_type": "code",
   "execution_count": 18,
   "metadata": {},
   "outputs": [],
   "source": [
    "def masker(dataset, list_of_masked):\n",
    "    '''Mascara as palavras dos textos em 'dataset' presente em 'list_of_masked' por uma string vazia\n",
    "    Input:  dataset = dataset de textos; list_of_masked = lista de palavras para mascarar\n",
    "    Output: o mesmo dataset de texto, mas com palavras mascaradas'''\n",
    "    masked_set = []\n",
    "    for index in range(len(dataset)):\n",
    "        new_string = ''\n",
    "        \n",
    "        #separa o documento em uma lista sequencial de palavras \n",
    "        #coloca a string em letra minúscula e tira a pontuação\n",
    "        splitted_doc = dataset[index].lower().translate(str.maketrans('', '', string.punctuation)).split()\n",
    "        for word in range(len(splitted_doc)):\n",
    "            if splitted_doc[word].strip() in list_of_masked:\n",
    "                new_string += ''\n",
    "            else:\n",
    "                new_string += ' '+ splitted_doc[word]\n",
    "        masked_set.append(new_string)\n",
    "    return masked_set"
   ]
  },
  {
   "cell_type": "code",
   "execution_count": 19,
   "metadata": {},
   "outputs": [],
   "source": [
    "#lista de palavras para mascarar\n",
    "words_to_mask = ['sv','s.v.', 's.v', 'sv.',\n",
    "                 'súmula', 'vinculante', 'VINCULANTE', 'vin', 'vinc.', 'sumula', 'sum']"
   ]
  },
  {
   "cell_type": "code",
   "execution_count": 20,
   "metadata": {},
   "outputs": [],
   "source": [
    "#como os números não devem ser fatores importantes na detetminação de possível citação da SV, mascaramos eles \n",
    "#também\n",
    "def numeric_masker(dataset):\n",
    "    '''Mascara os números inteiros dos textos em 'dataset'\n",
    "    Input: dataset = dataset de textos\n",
    "    Output: o mesmo dataset de texto, mas com números mascarados'''\n",
    "    masked_set = []\n",
    "    for index in range(len(dataset)):\n",
    "        new_string = ''\n",
    "        for word in range(len(dataset[index])):\n",
    "            if dataset[index][word].isnumeric()==False:\n",
    "                new_string += dataset[index][word]\n",
    "            else:\n",
    "                new_string += ''\n",
    "        masked_set.append(new_string)\n",
    "    return masked_set"
   ]
  },
  {
   "cell_type": "code",
   "execution_count": 21,
   "metadata": {},
   "outputs": [
    {
     "ename": "KeyboardInterrupt",
     "evalue": "",
     "output_type": "error",
     "traceback": [
      "\u001b[1;31m---------------------------------------------------------------------------\u001b[0m",
      "\u001b[1;31mKeyboardInterrupt\u001b[0m                         Traceback (most recent call last)",
      "\u001b[1;32m<ipython-input-21-f9cdf8f5e33a>\u001b[0m in \u001b[0;36m<module>\u001b[1;34m\u001b[0m\n\u001b[0;32m      1\u001b[0m \u001b[0mX1\u001b[0m \u001b[1;33m=\u001b[0m \u001b[0mnumeric_masker\u001b[0m\u001b[1;33m(\u001b[0m\u001b[0mmasker\u001b[0m\u001b[1;33m(\u001b[0m\u001b[0mX1\u001b[0m\u001b[1;33m,\u001b[0m \u001b[0mwords_to_mask\u001b[0m\u001b[1;33m)\u001b[0m\u001b[1;33m)\u001b[0m\u001b[1;33m\u001b[0m\u001b[1;33m\u001b[0m\u001b[0m\n\u001b[0;32m      2\u001b[0m \u001b[0mX0\u001b[0m \u001b[1;33m=\u001b[0m \u001b[0mnumeric_masker\u001b[0m\u001b[1;33m(\u001b[0m\u001b[0mmasker\u001b[0m\u001b[1;33m(\u001b[0m\u001b[0mX0\u001b[0m\u001b[1;33m,\u001b[0m \u001b[0mwords_to_mask\u001b[0m\u001b[1;33m)\u001b[0m\u001b[1;33m)\u001b[0m\u001b[1;33m\u001b[0m\u001b[1;33m\u001b[0m\u001b[0m\n\u001b[1;32m----> 3\u001b[1;33m \u001b[0mX0_ensemble\u001b[0m \u001b[1;33m=\u001b[0m \u001b[0mnumeric_masker\u001b[0m\u001b[1;33m(\u001b[0m\u001b[0mmasker\u001b[0m\u001b[1;33m(\u001b[0m\u001b[0mX0_ensemble\u001b[0m\u001b[1;33m,\u001b[0m \u001b[0mwords_to_mask\u001b[0m\u001b[1;33m)\u001b[0m\u001b[1;33m)\u001b[0m\u001b[1;33m\u001b[0m\u001b[1;33m\u001b[0m\u001b[0m\n\u001b[0m",
      "\u001b[1;32m<ipython-input-18-332617f47910>\u001b[0m in \u001b[0;36mmasker\u001b[1;34m(dataset, list_of_masked)\u001b[0m\n\u001b[0;32m     14\u001b[0m                 \u001b[0mnew_string\u001b[0m \u001b[1;33m+=\u001b[0m \u001b[1;34m''\u001b[0m\u001b[1;33m\u001b[0m\u001b[1;33m\u001b[0m\u001b[0m\n\u001b[0;32m     15\u001b[0m             \u001b[1;32melse\u001b[0m\u001b[1;33m:\u001b[0m\u001b[1;33m\u001b[0m\u001b[1;33m\u001b[0m\u001b[0m\n\u001b[1;32m---> 16\u001b[1;33m                 \u001b[0mnew_string\u001b[0m \u001b[1;33m+=\u001b[0m \u001b[1;34m' '\u001b[0m\u001b[1;33m+\u001b[0m \u001b[0msplitted_doc\u001b[0m\u001b[1;33m[\u001b[0m\u001b[0mword\u001b[0m\u001b[1;33m]\u001b[0m\u001b[1;33m\u001b[0m\u001b[1;33m\u001b[0m\u001b[0m\n\u001b[0m\u001b[0;32m     17\u001b[0m         \u001b[0mmasked_set\u001b[0m\u001b[1;33m.\u001b[0m\u001b[0mappend\u001b[0m\u001b[1;33m(\u001b[0m\u001b[0mnew_string\u001b[0m\u001b[1;33m)\u001b[0m\u001b[1;33m\u001b[0m\u001b[1;33m\u001b[0m\u001b[0m\n\u001b[0;32m     18\u001b[0m     \u001b[1;32mreturn\u001b[0m \u001b[0mmasked_set\u001b[0m\u001b[1;33m\u001b[0m\u001b[1;33m\u001b[0m\u001b[0m\n",
      "\u001b[1;31mKeyboardInterrupt\u001b[0m: "
     ]
    }
   ],
   "source": [
    "X1 = numeric_masker(masker(X1, words_to_mask))\n",
    "X0 = numeric_masker(masker(X0, words_to_mask))\n",
    "X0_ensemble = numeric_masker(masker(X0_ensemble, words_to_mask))"
   ]
  },
  {
   "cell_type": "code",
   "execution_count": null,
   "metadata": {},
   "outputs": [],
   "source": [
    "X = X0 + X1\n",
    "#faz a lista de classes\n",
    "y = [0 for i in range(len(X0))] + [1 for i in range(len(X1))]\n",
    "\n",
    "#modelo com bag-of-words e regressão logística\n",
    "modelo_log_bag = make_pipeline(CountVectorizer(stop_words = pt_stp_words), LogisticRegression())\n",
    "#procura o melhor hiperparâmetro C para a regressão logística\n",
    "param_grid_log = {'logisticregression__C': [0.001, 0.01, 0.1, 1, 10]}\n",
    "#realiza a procura do parâmetro com validação cruzada de 5-folds\n",
    "grid_log_bag = GridSearchCV(modelo_log_bag, param_grid_log, cv = 5)\n",
    "grid_log_bag.fit(X, y)\n",
    "\n",
    "#modelo com TF IDF e regressão logística\n",
    "modelo_log_tf = make_pipeline(TfidfVectorizer(stop_words = pt_stp_words), LogisticRegression())\n",
    "#realiza a procura do parâmetro com validação cruzada de 5-folds\n",
    "grid_log_tf = GridSearchCV(modelo_log_tf, param_grid_log, cv = 5)\n",
    "grid_log_tf.fit(X, y)"
   ]
  },
  {
   "cell_type": "code",
   "execution_count": null,
   "metadata": {},
   "outputs": [],
   "source": [
    "X_1 = X0_ensemble[:len(X1)] + X1\n",
    "X_2 = X0_ensemble[len(X1):2*len(X1)] + X1\n",
    "X_3 = X0_ensemble[2*len(X1):] + X1\n",
    "\n",
    "#modelo com TF IDF e regressão logística com esnemble\n",
    "modelo_log_tf_ens_1 = make_pipeline(TfidfVectorizer(stop_words = pt_stp_words + words_to_mask), LogisticRegression())\n",
    "grid_log_tf_1 = GridSearchCV(modelo_log_tf_ens_1, param_grid_log, cv = 5)\n",
    "grid_log_tf_1.fit(X_1, y)\n",
    "\n",
    "modelo_log_tf_ens_2 = make_pipeline(TfidfVectorizer(stop_words = pt_stp_words + words_to_mask), LogisticRegression())\n",
    "grid_log_tf_2 = GridSearchCV(modelo_log_tf_ens_2, param_grid_log, cv = 5)\n",
    "grid_log_tf_2.fit(X_2, y)\n",
    "\n",
    "modelo_log_tf_ens_3 = make_pipeline(TfidfVectorizer(stop_words = pt_stp_words + words_to_mask), LogisticRegression())\n",
    "grid_log_tf_3 = GridSearchCV(modelo_log_tf_ens_3, param_grid_log, cv = 5)\n",
    "grid_log_tf_3.fit(X_3, y)"
   ]
  },
  {
   "cell_type": "code",
   "execution_count": null,
   "metadata": {},
   "outputs": [],
   "source": [
    "print(\"Melhor erro de validação cruzada para bag-of-words e regressão logística: {:.2f}\".format(grid_log_bag.best_score_))\n",
    "print(\"Melhor erro de validação cruzada para TF IDF e regressão logística: {:.2f}\".format(grid_log_tf.best_score_))\n",
    "\n",
    "print(\"\\n\\n\\nMelhor erro de validação cruzada para TF IDF e regressão logística, ensemble 1: {:.2f}\".format(grid_log_tf_1.best_score_))\n",
    "print(\"Melhor erro de validação cruzada para TF IDF e regressão logística, ensemble 2: {:.2f}\".format(grid_log_tf_2.best_score_))\n",
    "print(\"Melhor erro de validação cruzada para TF IDF e regressão logística, ensemble 3: {:.2f}\".format(grid_log_tf_3.best_score_))"
   ]
  },
  {
   "cell_type": "code",
   "execution_count": null,
   "metadata": {},
   "outputs": [],
   "source": [
    "#transforma as palavras em vetores\n",
    "vectorizer = grid_log_bag.best_estimator_.named_steps[\"countvectorizer\"]\n",
    "X_train = vectorizer.transform(X)\n",
    "\n",
    "# acha as palavras que mais têm impacto no modelo\n",
    "max_value = X_train.max(axis=0).toarray().ravel()\n",
    "sorted_by_tfidf = max_value.argsort()\n",
    "# get feature names\n",
    "feature_names = np.array(vectorizer.get_feature_names())\n",
    "\n",
    "#faz o plot de barras\n",
    "visualize_coefficients(grid_log_bag.best_estimator_.named_steps[\"logisticregression\"].coef_,\n",
    "feature_names, n_top_features= 20)\n",
    "plt.savefig('coefs.png')"
   ]
  },
  {
   "cell_type": "code",
   "execution_count": null,
   "metadata": {},
   "outputs": [],
   "source": [
    "#checa a plotagem acima com o código original\n",
    "mglearn.tools.visualize_coefficients(\n",
    "grid_log_bag.best_estimator_.named_steps[\"logisticregression\"].coef_,\n",
    "feature_names, n_top_features= 20)"
   ]
  },
  {
   "cell_type": "code",
   "execution_count": null,
   "metadata": {},
   "outputs": [],
   "source": [
    "#agora faremos os mesmos cálculos com os melhores parâmetros estimados no último passo\n",
    "vectorizer_1 = TfidfVectorizer(stop_words = pt_stp_words)\n",
    "X_1 = vectorizer_1.fit_transform(X_1)\n",
    "\n",
    "vectorizer_2 = TfidfVectorizer(stop_words = pt_stp_words)\n",
    "X_2 = vectorizer_2.fit_transform(X_2)\n",
    "\n",
    "vectorizer_3 = TfidfVectorizer(stop_words = pt_stp_words)\n",
    "X_3 = vectorizer_3.fit_transform(X_3)"
   ]
  },
  {
   "cell_type": "code",
   "execution_count": null,
   "metadata": {},
   "outputs": [],
   "source": [
    "#transforma todos os textos em vetores pelos modelos de TF IDF criados pelo vocabulário de treinamento de cada\n",
    "#componente do ensemble\n",
    "corpus_1 = vectorizer_1.transform(list(data['raw_text']))\n",
    "corpus_2 = vectorizer_2.transform(list(data['raw_text']))\n",
    "corpus_3 = vectorizer_3.transform(list(data['raw_text']))"
   ]
  },
  {
   "cell_type": "code",
   "execution_count": null,
   "metadata": {},
   "outputs": [],
   "source": [
    "#transforma todos os textos em vetores pelos modelos de TF IDF criados pelo vocabulário de treinamento de cada\n",
    "#componente do ensemble\n",
    "corpus_1 = vectorizer_1.transform(list(data['raw_text']))\n",
    "corpus_2 = vectorizer_2.transform(list(data['raw_text']))\n",
    "corpus_3 = vectorizer_3.transform(list(data['raw_text']))"
   ]
  },
  {
   "cell_type": "code",
   "execution_count": null,
   "metadata": {},
   "outputs": [],
   "source": [
    "#performa as três regressões logísticas de ensemble com os melhores parâmetros\n",
    "log1 = LogisticRegression(C = grid_log_tf_1.best_params_['logisticregression__C']).fit(X_1, y)\n",
    "log2 = LogisticRegression(C = grid_log_tf_2.best_params_['logisticregression__C']).fit(X_2, y)\n",
    "log3 = LogisticRegression(C = grid_log_tf_3.best_params_['logisticregression__C']).fit(X_3, y)"
   ]
  },
  {
   "cell_type": "code",
   "execution_count": null,
   "metadata": {},
   "outputs": [],
   "source": [
    "prob_log_1 =  log1.predict_proba(corpus_1)\n",
    "prob_log_2 =  log2.predict_proba(corpus_2)\n",
    "prob_log_3 =  log3.predict_proba(corpus_3)"
   ]
  },
  {
   "cell_type": "code",
   "execution_count": null,
   "metadata": {},
   "outputs": [],
   "source": [
    "prob_log = (prob_log_1[:,1] + prob_log_2[:,1] + prob_log_3[:,1])/3"
   ]
  },
  {
   "cell_type": "code",
   "execution_count": null,
   "metadata": {},
   "outputs": [],
   "source": [
    "prob_log = (prob_log_1[:,1] + prob_log_2[:,1] + prob_log_3[:,1])/3"
   ]
  },
  {
   "cell_type": "code",
   "execution_count": null,
   "metadata": {},
   "outputs": [],
   "source": [
    "titles_all = list(data['title'])\n",
    "date = list(meta['date'])\n",
    "year = list(meta['year'])\n",
    "\n",
    "d = {'title': titles_all, 'date':date, 'year':year, 'log': prob_log}\n",
    "predictions = pd.DataFrame(data = d)"
   ]
  },
  {
   "cell_type": "code",
   "execution_count": null,
   "metadata": {},
   "outputs": [],
   "source": [
    "data[data['title'].isin(list(predictions[predictions['log'] > 0.5]['title']))].to_csv('before_sv.csv')"
   ]
  },
  {
   "cell_type": "code",
   "execution_count": null,
   "metadata": {},
   "outputs": [],
   "source": [
    "def citations_per_year(threshdold):\n",
    "    numb_count = []\n",
    "    prop_count = []\n",
    "    \n",
    "    for year in list(range(2004, 2019)):\n",
    "        numb_count.append(len(predictions[(predictions['log'] > threshdold) & (predictions['year'] == year)]))\n",
    "        prop_count.append(len(predictions[(predictions['log'] > threshdold) & (predictions['year'] == year)])/len(predictions[predictions['year']== year]))\n",
    "    \n",
    "    return numb_count, prop_count"
   ]
  },
  {
   "cell_type": "code",
   "execution_count": null,
   "metadata": {},
   "outputs": [],
   "source": [
    "fig, axs = plt.subplots(2, figsize = (20, 10))\n",
    "plt.suptitle('Previsões por regressão logística', fontsize = 20)\n",
    "\n",
    "for threshold in [0.5, 0.7, 0.8, 0.9, 0.95]:\n",
    "    numb_count, prop_count = citations_per_year(threshold)\n",
    "    axs[0].plot(list(range(2004, 2019)), numb_count, '-o', label = 'Limiar = ' + str(threshold))\n",
    "    axs[1].plot(list(range(2004, 2019)), prop_count, '-o', label = 'Limiar = ' + str(threshold))\n",
    "\n",
    "axs[0].axvline(2009, linestyle = '--', label = 'Criação da SV 26', c = 'blue')\n",
    "axs[0].legend(fontsize = 13, loc=\"upper left\")\n",
    "axs[0].set_ylabel('Número de documentos', fontsize = 13)\n",
    "\n",
    "axs[1].axvline(2009, linestyle = '--', label = 'Criação da SV 26', c = 'blue')\n",
    "axs[1].legend(fontsize = 13, loc=\"upper left\")\n",
    "axs[1].set_ylabel('Proporção de documentos', fontsize = 13)\n",
    "\n",
    "plt.savefig('series_models.png', bbox_inches = 'tight')\n",
    "plt.show()"
   ]
  },
  {
   "cell_type": "code",
   "execution_count": null,
   "metadata": {},
   "outputs": [],
   "source": [
    "log_count = citations_per_year(0.5)"
   ]
  },
  {
   "cell_type": "code",
   "execution_count": null,
   "metadata": {},
   "outputs": [],
   "source": [
    "#escolhe apenas os documentos depois que 2004\n",
    "predictions_2004 = predictions[predictions['year'] >= 2004]\n",
    "predictions_2004"
   ]
  },
  {
   "cell_type": "code",
   "execution_count": null,
   "metadata": {},
   "outputs": [],
   "source": [
    "#cria uma lista de todos os meses de 2004 a 2018, ignorando apenas o dia específico\n",
    "monht_list = []\n",
    "for date in predictions_2004['date']:\n",
    "    monht_list.append(date.split('-')[1] + '-' + date.split('-')[0])\n",
    "predictions_2004['month'] = monht_list"
   ]
  },
  {
   "cell_type": "code",
   "execution_count": null,
   "metadata": {},
   "outputs": [],
   "source": [
    "#cria a lista de todos os meses entre 2004 e 2018 (não podemos fazer por set pois a ordem correta não seria mantida, mesmo se transformar em lista e usarmos sort)\n",
    "#e entre os meses antes e depois da criação da SV\n",
    "month_list_full = ['0'+str(month) + '-' + str(year) if len(str(month)) == 1 else str(month) + '-' + str(year) for year in range(2004,2019) for month in range(1,13)]\n",
    "month_list_bf = ['0'+str(month) + '-' + str(year) if len(str(month)) == 1 else str(month) + '-' + str(year) for year in range(2004,2010) for month in range(1,13)]\n",
    "month_list_af = ['0'+str(month) + '-' + str(year) if len(str(month)) == 1 else str(month) + '-' + str(year) for year in range(2010,2019) for month in range(1,13)]"
   ]
  },
  {
   "cell_type": "code",
   "execution_count": null,
   "metadata": {},
   "outputs": [],
   "source": [
    "def citations_per_month(threshdold, dataset, month_list):\n",
    "    numb_count = []\n",
    "    prop_count = []\n",
    "        \n",
    "    for month in month_list:\n",
    "        numb_count.append(len(dataset[(dataset['log'] > threshdold) & (dataset['month'] == month)]))\n",
    "        \n",
    "        if len(dataset[dataset['month'] == month]) != 0:\n",
    "            prop_count.append(len(dataset[(dataset['log'] > threshdold) & (dataset['month'] == month)])/len(dataset[dataset['month'] == month]))\n",
    "        else:\n",
    "            prop_count.append(prop_count[-1])\n",
    "    return numb_count, prop_count"
   ]
  },
  {
   "cell_type": "code",
   "execution_count": null,
   "metadata": {},
   "outputs": [],
   "source": [
    "numb_count,_ = citations_per_month(0.5, predictions_2004, month_list_full)\n",
    "int_data = moving_avarage_builder(numb_count, month_list_full)"
   ]
  },
  {
   "cell_type": "code",
   "execution_count": null,
   "metadata": {},
   "outputs": [],
   "source": [
    "tck = interpolate.splrep(range(len(month_list_full)), int_data, s=0)"
   ]
  },
  {
   "cell_type": "code",
   "execution_count": null,
   "metadata": {},
   "outputs": [],
   "source": [
    "xfit = np.linspace(0, len(month_list_full), 90)\n",
    "yfit = interpolate.splev(xfit, tck, der=0)"
   ]
  },
  {
   "cell_type": "code",
   "execution_count": null,
   "metadata": {},
   "outputs": [],
   "source": [
    "fig, ax = plt.subplots(figsize = (20, 5))\n",
    "plt.suptitle('Previsões por regressão logística', fontsize = 20)\n",
    "\n",
    "\n",
    "ax.plot(month_list_full, numb_count,'-o' ,label = 'Previsões com limiar em 0.5', alpha = 0.7)\n",
    "ax.plot(xfit, yfit, '--', c= 'orange', label = 'Média móvel')\n",
    "    \n",
    "start, end = ax.get_xlim()\n",
    "ax.tick_params(axis='x', rotation=45)\n",
    "ax.set_xticks(np.arange(start, end, 6))\n",
    "ax.axvline('12-2009', linestyle = '--', label = 'Criação da SV 26', c = 'blue', alpha  = 0.5)\n",
    "ax.legend(loc = 'upper left')\n",
    "\n",
    "plt.savefig('series_models_mes.png', bbox_inches = 'tight')\n",
    "plt.show()"
   ]
  },
  {
   "cell_type": "code",
   "execution_count": null,
   "metadata": {},
   "outputs": [],
   "source": [
    "predictions_bf_sv = predictions_2004[predictions_2004['year'] < 2010]\n",
    "predictions_af_sv = predictions_2004[predictions_2004['year'] >= 2010]"
   ]
  },
  {
   "cell_type": "code",
   "execution_count": null,
   "metadata": {},
   "outputs": [],
   "source": []
  },
  {
   "cell_type": "markdown",
   "metadata": {},
   "source": [
    "# Seção 3.3"
   ]
  },
  {
   "cell_type": "code",
   "execution_count": 2,
   "metadata": {},
   "outputs": [],
   "source": [
    "#importa PCA\n",
    "from sklearn.decomposition import PCA\n",
    "\n",
    "#importa normlizador Z\n",
    "from sklearn.preprocessing import StandardScaler\n",
    "\n",
    "#importa classificador por Support Vector Machines (SVM)\n",
    "from sklearn.svm import SVC\n",
    "\n",
    "#importa classificador random forest\n",
    "from sklearn.ensemble import RandomForestClassifier\n",
    "\n",
    "#importa Naive Bayes\n",
    "from sklearn.naive_bayes import MultinomialNB\n",
    "\n",
    "#importa tensorflow para redes neurais\n",
    "import tensorflow as tf\n",
    "import tensorflow_hub as hub\n",
    "import tensorflow_text"
   ]
  },
  {
   "cell_type": "code",
   "execution_count": 3,
   "metadata": {},
   "outputs": [
    {
     "name": "stdout",
     "output_type": "stream",
     "text": [
      "220 251\n"
     ]
    }
   ],
   "source": [
    "#importa dados anotados com 'mérito' ou 'processual'\n",
    "texts_26_anot = pd.read_csv('annotated_texts.csv')\n",
    "texts_26_anot = texts_26_anot[['text', 'class']]\n",
    "\n",
    "#escolhe como classe '0' os documentos que citam e utilizam apenas de forma processual\n",
    "X0_proc = list(texts_26_anot[texts_26_anot['class'] == 0]['text'])\n",
    "#escolhe como classe '1' os documentos que citam e tratam de mérito\n",
    "X1 = list(texts_26_anot[texts_26_anot['class'] == 1]['text'])\n",
    "\n",
    "#vamos ver o tamanho de cada uma dessas classes\n",
    "print(len(X0_proc), len(X1))"
   ]
  },
  {
   "cell_type": "markdown",
   "metadata": {},
   "source": [
    "## Regressão logística com dataset reduzido"
   ]
  },
  {
   "cell_type": "code",
   "execution_count": null,
   "metadata": {},
   "outputs": [],
   "source": [
    "random.seed(1)\n",
    "indexes_X0_outros = random.sample(indexes_n_26, int(len(X1)))\n",
    "X0_outros1 = list(texts_n_26.iloc[indexes_X0_outros]['raw_text'])\n",
    "X_1 =  random.sample(X1, int(len(X1)/2)) + random.sample(X0_proc, int(len(X1)/2)) + X0_outros1\n",
    "X_1 = numeric_masker(masker(X_1, words_to_mask))\n",
    "\n",
    "random.seed(11)\n",
    "indexes_X0_outros = random.sample(indexes_n_26, int(len(X1)))\n",
    "X0_outros2 = list(texts_n_26.iloc[indexes_X0_outros]['raw_text'])\n",
    "X_2 =  random.sample(X1, int(len(X1)/2)) + random.sample(X0_proc, int(len(X1)/2)) + X0_outros2\n",
    "X_2 = numeric_masker(masker(X_2, words_to_mask))\n",
    "\n",
    "random.seed(111)\n",
    "indexes_X0_outros = random.sample(indexes_n_26, int(len(X1)))\n",
    "X0_outros3 = list(texts_n_26.iloc[indexes_X0_outros]['raw_text'])\n",
    "X_3 =  random.sample(X1, int(len(X1)/2)) + random.sample(X0_proc, int(len(X1)/2)) + X0_outros3\n",
    "X_3 = numeric_masker(masker(X_3, words_to_mask))\n",
    "\n",
    "\n",
    "y = [0 for i in range(2*int(len(X1)/2))] + [1 for i in range(len(X1))]"
   ]
  },
  {
   "cell_type": "code",
   "execution_count": null,
   "metadata": {},
   "outputs": [],
   "source": [
    "param_grid_log = {'logisticregression__C': [0.001, 0.01, 0.1, 1, 10]}\n",
    "\n",
    "#modelo com TF IDF e regressão logística com esnemble\n",
    "modelo_log_tf_ens_1 = make_pipeline(TfidfVectorizer(stop_words = pt_stp_words), LogisticRegression())\n",
    "grid_log_tf_1 = GridSearchCV(modelo_log_tf_ens_1, param_grid_log, cv = 5)\n",
    "grid_log_tf_1.fit(X_1, y)\n",
    "\n",
    "modelo_log_tf_ens_2 = make_pipeline(TfidfVectorizer(stop_words = pt_stp_words), LogisticRegression())\n",
    "grid_log_tf_2 = GridSearchCV(modelo_log_tf_ens_2, param_grid_log, cv = 5)\n",
    "grid_log_tf_2.fit(X_2, y)\n",
    "\n",
    "modelo_log_tf_ens_3 = make_pipeline(TfidfVectorizer(stop_words = pt_stp_words), LogisticRegression())\n",
    "grid_log_tf_3 = GridSearchCV(modelo_log_tf_ens_3, param_grid_log, cv = 5)\n",
    "grid_log_tf_3.fit(X_3, y)"
   ]
  },
  {
   "cell_type": "code",
   "execution_count": null,
   "metadata": {},
   "outputs": [],
   "source": [
    "print(\"Melhor erro de validação cruzada para TF IDF e regressão logística, ensemble 1: {:.2f}\".format(grid_log_tf_1.best_score_))\n",
    "print(\"Melhor erro de validação cruzada para TF IDF e regressão logística, ensemble 2: {:.2f}\".format(grid_log_tf_2.best_score_))\n",
    "print(\"Melhor erro de validação cruzada para TF IDF e regressão logística, ensemble 3: {:.2f}\".format(grid_log_tf_3.best_score_))"
   ]
  },
  {
   "cell_type": "markdown",
   "metadata": {},
   "source": [
    "## Diferenciação entre mérito e processual"
   ]
  },
  {
   "cell_type": "code",
   "execution_count": null,
   "metadata": {},
   "outputs": [],
   "source": [
    "random.seed(1)\n",
    "X0_proc1 = random.sample(X0_proc, int(len(X1)/2))\n",
    "indexes_X0_outros = random.sample(indexes_n_26, int(len(X1)/2))\n",
    "X0_outros1 = list(texts_n_26.iloc[indexes_X0_outros]['raw_text'])\n",
    "X0_1 = X0_proc1 + X0_outros1\n",
    "X_1 = X0_1 + X1\n",
    "X_1 = numeric_masker(masker(X_1, words_to_mask))\n",
    "\n",
    "random.seed(11)\n",
    "X0_proc2 = random.sample(X0_proc, int(len(X1)/2))\n",
    "indexes_X0_outros = random.sample(indexes_n_26, int(len(X1)/2))\n",
    "X0_outros2 = list(texts_n_26.iloc[indexes_X0_outros]['raw_text'])\n",
    "X0_2 = X0_proc2 + X0_outros2\n",
    "X_2 = X0_2 + X1\n",
    "X_2 = numeric_masker(masker(X_2, words_to_mask))\n",
    "\n",
    "\n",
    "random.seed(111)\n",
    "X0_proc3 = random.sample(X0_proc, int(len(X1)/2))\n",
    "indexes_X0_outros = random.sample(indexes_n_26, int(len(X1)/2))\n",
    "X0_outros3 = list(texts_n_26.iloc[indexes_X0_outros]['raw_text'])\n",
    "X0_3 = X0_proc3 + X0_outros3\n",
    "X_3 = X0_3 + X1\n",
    "X_3 = numeric_masker(masker(X_3, words_to_mask))\n",
    "\n",
    "\n",
    "y = [0 for i in range(len(X0_3))] + [1 for i in range(len(X1))]"
   ]
  },
  {
   "cell_type": "markdown",
   "metadata": {},
   "source": [
    "### Regressão logística"
   ]
  },
  {
   "cell_type": "code",
   "execution_count": null,
   "metadata": {},
   "outputs": [],
   "source": [
    "param_grid_log = {'logisticregression__C': [0.001, 0.01, 0.1, 1, 10]}\n",
    "\n",
    "#modelo com TF IDF e regressão logística com esnemble\n",
    "modelo_log_tf_ens_1 = make_pipeline(TfidfVectorizer(stop_words = pt_stp_words), LogisticRegression())\n",
    "grid_log_tf_1 = GridSearchCV(modelo_log_tf_ens_1, param_grid_log, cv = 5)\n",
    "grid_log_tf_1.fit(X_1, y)\n",
    "\n",
    "modelo_log_tf_ens_2 = make_pipeline(TfidfVectorizer(stop_words = pt_stp_words), LogisticRegression())\n",
    "grid_log_tf_2 = GridSearchCV(modelo_log_tf_ens_2, param_grid_log, cv = 5)\n",
    "grid_log_tf_2.fit(X_2, y)\n",
    "\n",
    "modelo_log_tf_ens_3 = make_pipeline(TfidfVectorizer(stop_words = pt_stp_words), LogisticRegression())\n",
    "grid_log_tf_3 = GridSearchCV(modelo_log_tf_ens_3, param_grid_log, cv = 5)\n",
    "grid_log_tf_3.fit(X_3, y)"
   ]
  },
  {
   "cell_type": "code",
   "execution_count": null,
   "metadata": {},
   "outputs": [],
   "source": [
    "print(\"Melhor erro de validação cruzada para TF IDF e regressão logística, ensemble 1: {:.2f}\".format(grid_log_tf_1.best_score_))\n",
    "print(\"Melhor erro de validação cruzada para TF IDF e regressão logística, ensemble 2: {:.2f}\".format(grid_log_tf_2.best_score_))\n",
    "print(\"Melhor erro de validação cruzada para TF IDF e regressão logística, ensemble 3: {:.2f}\".format(grid_log_tf_3.best_score_))"
   ]
  },
  {
   "cell_type": "code",
   "execution_count": null,
   "metadata": {},
   "outputs": [],
   "source": [
    "#transforma as palavras em vetores\n",
    "vectorizer = grid_log_tf_3.best_estimator_.named_steps[\"tfidfvectorizer\"]\n",
    "X_train = vectorizer.transform(X_3)\n",
    "\n",
    "# acha as palavras que mais têm impacto no modelo\n",
    "max_value = X_train.max(axis=0).toarray().ravel()\n",
    "sorted_by_tfidf = max_value.argsort()\n",
    "# get feature names\n",
    "feature_names = np.array(vectorizer.get_feature_names())\n",
    "\n",
    "#faz o plot de barras\n",
    "visualize_coefficients(grid_log_tf_3.best_estimator_.named_steps[\"logisticregression\"].coef_,\n",
    "feature_names, n_top_features= 20)\n",
    "plt.savefig('coef_ann.png')"
   ]
  },
  {
   "cell_type": "code",
   "execution_count": null,
   "metadata": {},
   "outputs": [],
   "source": [
    "#agora faremos os mesmos cálculos com os melhores parâmetros estimados no último passo\n",
    "vectorizer_1 = TfidfVectorizer(stop_words = pt_stp_words)\n",
    "X_1 = vectorizer_1.fit_transform(X_1)\n",
    "\n",
    "vectorizer_2 = TfidfVectorizer(stop_words = pt_stp_words)\n",
    "X_2 = vectorizer_2.fit_transform(X_2)\n",
    "\n",
    "vectorizer_3 = TfidfVectorizer(stop_words = pt_stp_words)\n",
    "X_3 = vectorizer_3.fit_transform(X_3)"
   ]
  },
  {
   "cell_type": "code",
   "execution_count": null,
   "metadata": {},
   "outputs": [],
   "source": [
    "#performa, para fins de visualização, PCA no dataset\n",
    "pca = PCA(n_components = 2)\n",
    "pca.fit(X_1.toarray())\n",
    "X_1pca = pca.transform(X_1.toarray())\n",
    "\n",
    "y_pca = [0 for i in range(len(X0_proc1))] + [1 for i in range(len(X0_outros1))] + [2 for i in range(len(X1))]\n",
    "plt.scatter(X_1pca[:,0][:len(X0_proc1)], X_1pca[:,1][:len(X0_proc1)], label = 'Documentos que citam a\\n SV 26 de forma processual')\n",
    "plt.scatter(X_1pca[:,0][len(X0_proc1)+len(X0_outros1):], X_1pca[:,1][len(X0_proc1)+len(X0_outros1):], label = 'Documentos que citam a\\n SV 26 em mérito')\n",
    "plt.scatter(X_1pca[:,0][len(X0_proc1):len(X0_proc1)+len(X0_outros1)], X_1pca[:,1][len(X0_proc1):len(X0_proc1)+len(X0_outros1)], label = 'Documentos que não\\n citam a SV 26')\n",
    "plt.legend(bbox_to_anchor=(0.75, 1.05))\n",
    "plt.savefig('scatter.png',  bbox_inches = 'tight')\n",
    "plt.show()"
   ]
  },
  {
   "cell_type": "code",
   "execution_count": null,
   "metadata": {},
   "outputs": [],
   "source": [
    "#transforma todos os textos em vetores pelos modelos de TF IDF criados pelo vocabulário de treinamento de cada\n",
    "#componente do ensemble\n",
    "corpus_1 = vectorizer_1.transform(list(data['raw_text']))\n",
    "corpus_2 = vectorizer_2.transform(list(data['raw_text']))\n",
    "corpus_3 = vectorizer_3.transform(list(data['raw_text']))"
   ]
  },
  {
   "cell_type": "code",
   "execution_count": null,
   "metadata": {},
   "outputs": [],
   "source": [
    "#performa as três regressões logísticas de ensemble com os melhores parâmetros\n",
    "log1 = LogisticRegression(C = grid_log_tf_1.best_params_['logisticregression__C']).fit(X_1, y)\n",
    "log2 = LogisticRegression(C = grid_log_tf_2.best_params_['logisticregression__C']).fit(X_2, y)\n",
    "log3 = LogisticRegression(C = grid_log_tf_3.best_params_['logisticregression__C']).fit(X_3, y)"
   ]
  },
  {
   "cell_type": "code",
   "execution_count": null,
   "metadata": {},
   "outputs": [],
   "source": [
    "prob_log_1 =  log1.predict_proba(corpus_1)\n",
    "prob_log_2 =  log2.predict_proba(corpus_2)\n",
    "prob_log_3 =  log3.predict_proba(corpus_3)"
   ]
  },
  {
   "cell_type": "code",
   "execution_count": null,
   "metadata": {},
   "outputs": [],
   "source": [
    "prob_log = (prob_log_1[:,1] + prob_log_2[:,1] + prob_log_3[:,1])/3"
   ]
  },
  {
   "cell_type": "code",
   "execution_count": null,
   "metadata": {},
   "outputs": [],
   "source": [
    "titles_all = list(data['title'])\n",
    "date = list(meta['date'])\n",
    "year = list(meta['year'])\n",
    "\n",
    "d = {'title': titles_all, 'date':date, 'year':year, 'log': prob_log}\n",
    "predictions = pd.DataFrame(data = d)"
   ]
  },
  {
   "cell_type": "code",
   "execution_count": null,
   "metadata": {},
   "outputs": [],
   "source": [
    "predictions"
   ]
  },
  {
   "cell_type": "code",
   "execution_count": null,
   "metadata": {},
   "outputs": [],
   "source": [
    "fig, axs = plt.subplots(figsize = (20, 10))\n",
    "\n",
    "for threshold in [0.5, 0.7, 0.8, 0.9, 0.95]:\n",
    "    log_count,_ = citations_per_year(threshold)\n",
    "    axs.plot(list(range(2004, 2019)), log_count, '-o', label = 'Limiar = ' + str(threshold))\n",
    "axs.axvline(2009, linestyle = '--', label = 'Criação da SV 26', c = 'blue')\n",
    "axs.legend(fontsize = 13, loc=\"upper left\")\n",
    "axs.set_title('Regressão logística', fontsize = 17)\n",
    "axs.set_ylabel('Proporção de documentos', fontsize = 13)\n",
    "\n",
    "\n",
    "plt.savefig('series_models_annot.png')\n",
    "plt.show()"
   ]
  },
  {
   "cell_type": "markdown",
   "metadata": {},
   "source": [
    "### SVC com kernel RGB"
   ]
  },
  {
   "cell_type": "code",
   "execution_count": null,
   "metadata": {},
   "outputs": [],
   "source": [
    "#modelo com TF IDF e SVC com esnemble\n",
    "param_grid_svm = {'svc__C': [0.001, 0.01, 0.1, 1, 10]}\n",
    "\n",
    "modelo_svm_tf_ens_1 = make_pipeline(StandardScaler(), SVC(gamma='auto'))\n",
    "grid_svm_tf_1 = GridSearchCV(modelo_svm_tf_ens_1, param_grid_svm, cv = 5)\n",
    "#precismamos usar to array aqui porque o escalador não funciona para matrizes\n",
    "#esparsas\n",
    "grid_svm_tf_1.fit(X_1.toarray(), y)\n",
    "\n",
    "modelo_svm_tf_ens_2 = make_pipeline(StandardScaler(), SVC(gamma='auto'))\n",
    "grid_svm_tf_2 = GridSearchCV(modelo_svm_tf_ens_2, param_grid_svm, cv = 5)\n",
    "grid_svm_tf_2.fit(X_2.toarray(), y)\n",
    "\n",
    "modelo_svm_tf_ens_3 = make_pipeline(StandardScaler(), SVC(gamma='auto'))\n",
    "grid_svm_tf_3 = GridSearchCV(modelo_svm_tf_ens_3, param_grid_svm, cv = 5)\n",
    "grid_svm_tf_3.fit(X_3.toarray(), y)"
   ]
  },
  {
   "cell_type": "code",
   "execution_count": null,
   "metadata": {},
   "outputs": [],
   "source": [
    "print(\"Melhor erro de validação cruzada para TF IDF e SVM com kernel RGB, ensemble 1: {:.2f}\".format(grid_svm_tf_1.best_score_))\n",
    "print(\"Melhor erro de validação cruzada para TF IDF e SVM com kernel RGB, ensemble 2: {:.2f}\".format(grid_svm_tf_2.best_score_))\n",
    "print(\"Melhor erro de validação cruzada para TF IDF e SVM com kernel RGB, ensemble 3: {:.2f}\".format(grid_svm_tf_3.best_score_))"
   ]
  },
  {
   "cell_type": "markdown",
   "metadata": {},
   "source": [
    "### Random forest"
   ]
  },
  {
   "cell_type": "code",
   "execution_count": null,
   "metadata": {},
   "outputs": [],
   "source": [
    "param_grid_rf = {'randomforestclassifier__n_estimators': [1, 10, 100, 1000, 10000]}\n",
    "\n",
    "#modelo com TF IDF e random forest com esnemble\n",
    "modelo_rf_tf_ens_1 = make_pipeline(RandomForestClassifier(random_state = 0))\n",
    "grid_rf_tf_1 = GridSearchCV(modelo_rf_tf_ens_1, param_grid_rf, cv = 5)\n",
    "grid_rf_tf_1.fit(X_1, y)\n",
    "\n",
    "modelo_rf_tf_ens_2 = make_pipeline(RandomForestClassifier(random_state = 0))\n",
    "grid_rf_tf_2 = GridSearchCV(modelo_rf_tf_ens_2, param_grid_rf, cv = 5)\n",
    "grid_rf_tf_2.fit(X_2, y)\n",
    "\n",
    "modelo_rf_tf_ens_3 = make_pipeline(RandomForestClassifier(random_state = 0))\n",
    "grid_rf_tf_3 = GridSearchCV(modelo_rf_tf_ens_3, param_grid_rf, cv = 5)\n",
    "grid_rf_tf_3.fit(X_3, y)"
   ]
  },
  {
   "cell_type": "code",
   "execution_count": null,
   "metadata": {},
   "outputs": [],
   "source": [
    "print(\"Melhor erro de validação cruzada para TF IDF e random forest, ensemble 1: {:.2f}\".format(grid_rf_tf_1.best_score_))\n",
    "print(\"Melhor erro de validação cruzada para TF IDF e random forest, ensemble 2: {:.2f}\".format(grid_rf_tf_2.best_score_))\n",
    "print(\"Melhor erro de validação cruzada para TF IDF e random forest, ensemble 3: {:.2f}\".format(grid_rf_tf_3.best_score_))"
   ]
  },
  {
   "cell_type": "markdown",
   "metadata": {},
   "source": [
    "### Naive Bayes"
   ]
  },
  {
   "cell_type": "code",
   "execution_count": null,
   "metadata": {},
   "outputs": [],
   "source": [
    "param_grid_nb = {'multinomialnb__alpha': [0, 0.5, 1]}\n",
    "\n",
    "#modelo com TF IDF e naive bayes com esnemble\n",
    "modelo_nb_tf_ens_1 = make_pipeline(MultinomialNB())\n",
    "grid_nb_tf_1 = GridSearchCV(modelo_nb_tf_ens_1, param_grid_nb, cv = 5)\n",
    "grid_nb_tf_1.fit(X_1, y)\n",
    "\n",
    "modelo_nb_tf_ens_2 = make_pipeline(MultinomialNB())\n",
    "grid_nb_tf_2 = GridSearchCV(modelo_nb_tf_ens_2, param_grid_nb, cv = 5)\n",
    "grid_nb_tf_2.fit(X_2, y)\n",
    "\n",
    "modelo_nb_tf_ens_3 = make_pipeline(MultinomialNB())\n",
    "grid_nb_tf_3 = GridSearchCV(modelo_nb_tf_ens_3, param_grid_nb, cv = 5)\n",
    "grid_nb_tf_3.fit(X_3, y)"
   ]
  },
  {
   "cell_type": "code",
   "execution_count": null,
   "metadata": {},
   "outputs": [],
   "source": [
    "print(\"Melhor erro de validação cruzada para TF IDF e Naive Bayes, ensemble 1: {:.2f}\".format(grid_nb_tf_1.best_score_))\n",
    "print(\"Melhor erro de validação cruzada para TF IDF e Naive Bayes, ensemble 2: {:.2f}\".format(grid_nb_tf_2.best_score_))\n",
    "print(\"Melhor erro de validação cruzada para TF IDF e Naive Bayes, ensemble 3: {:.2f}\".format(grid_nb_tf_3.best_score_))"
   ]
  },
  {
   "cell_type": "markdown",
   "metadata": {},
   "source": [
    "## Embeddings por Universal Sentence Encoder"
   ]
  },
  {
   "cell_type": "code",
   "execution_count": null,
   "metadata": {},
   "outputs": [],
   "source": [
    "use = hub.load(\"https://tfhub.dev/google/universal-sentence-encoder-multilingual/3\")"
   ]
  },
  {
   "cell_type": "code",
   "execution_count": null,
   "metadata": {},
   "outputs": [],
   "source": [
    "random.seed(1)\n",
    "X0_proc1 = random.sample(X0_proc, int(len(X1)/2))\n",
    "indexes_X0_outros = random.sample(indexes_n_26, int(len(X1)/2))\n",
    "X0_outros1 = list(texts_n_26.iloc[indexes_X0_outros]['raw_text'])\n",
    "X0_1 = X0_proc1 + X0_outros1\n",
    "X_1 = X0_1 + X1\n",
    "X_1 = numeric_masker(masker(X_1, words_to_mask))\n",
    "\n",
    "random.seed(11)\n",
    "X0_proc2 = random.sample(X0_proc, int(len(X1)/2))\n",
    "indexes_X0_outros = random.sample(indexes_n_26, int(len(X1)/2))\n",
    "X0_outros2 = list(texts_n_26.iloc[indexes_X0_outros]['raw_text'])\n",
    "X0_2 = X0_proc2 + X0_outros2\n",
    "X_2 = X0_2 + X1\n",
    "X_2 = numeric_masker(masker(X_2, words_to_mask))\n",
    "\n",
    "\n",
    "random.seed(111)\n",
    "X0_proc3 = random.sample(X0_proc, int(len(X1)/2))\n",
    "indexes_X0_outros = random.sample(indexes_n_26, int(len(X1)/2))\n",
    "X0_outros3 = list(texts_n_26.iloc[indexes_X0_outros]['raw_text'])\n",
    "X0_3 = X0_proc3 + X0_outros3\n",
    "X_3 = X0_3 + X1\n",
    "X_3 = numeric_masker(masker(X_3, words_to_mask))\n",
    "\n",
    "\n",
    "y = [0 for i in range(len(X0_3))] + [1 for i in range(len(X1))]"
   ]
  },
  {
   "cell_type": "code",
   "execution_count": null,
   "metadata": {},
   "outputs": [],
   "source": [
    "X_1 = use(X_1)"
   ]
  },
  {
   "cell_type": "code",
   "execution_count": null,
   "metadata": {},
   "outputs": [],
   "source": [
    "X_2 = use(X_2)"
   ]
  },
  {
   "cell_type": "code",
   "execution_count": null,
   "metadata": {},
   "outputs": [],
   "source": [
    "X_3 = use(X_3)"
   ]
  },
  {
   "cell_type": "code",
   "execution_count": null,
   "metadata": {},
   "outputs": [],
   "source": [
    "X_1 = [tensor.numpy() for tensor in X_1]\n",
    "X_2 = [tensor.numpy() for tensor in X_2]\n",
    "X_3 = [tensor.numpy() for tensor in X_3]"
   ]
  },
  {
   "cell_type": "code",
   "execution_count": null,
   "metadata": {},
   "outputs": [],
   "source": [
    "pca = PCA(n_components = 2)\n",
    "pca.fit(X_1)\n",
    "X_1pca = pca.transform(X_1)\n",
    "\n",
    "y_pca = [0 for i in range(len(X0_proc1))] + [1 for i in range(len(X0_outros1))] + [2 for i in range(len(X1))]\n",
    "plt.scatter(X_1pca[:,0][:len(X0_proc1)], X_1pca[:,1][:len(X0_proc1)], label = 'Documentos que citam a\\n SV 26 de forma processual')\n",
    "plt.scatter(X_1pca[:,0][len(X0_proc1)+len(X0_outros1):], X_1pca[:,1][len(X0_proc1)+len(X0_outros1):], label = 'Documentos que citam a\\n SV 26 em mérito')\n",
    "plt.scatter(X_1pca[:,0][len(X0_proc1):len(X0_proc1)+len(X0_outros1)], X_1pca[:,1][len(X0_proc1):len(X0_proc1)+len(X0_outros1)], label = 'Documentos que não\\n citam a SV 26')\n",
    "plt.legend(bbox_to_anchor=(0.75, 0.25))\n",
    "plt.savefig('scatter_use.png',  bbox_inches = 'tight')\n",
    "plt.show()"
   ]
  },
  {
   "cell_type": "markdown",
   "metadata": {},
   "source": [
    "### Regressão logística"
   ]
  },
  {
   "cell_type": "code",
   "execution_count": null,
   "metadata": {},
   "outputs": [],
   "source": [
    "param_grid_log = {'logisticregression__C': [0.001, 0.01, 0.1, 1, 10]}\n",
    "\n",
    "#modelo com TF IDF e regressão logística com esnemble\n",
    "modelo_log_tf_ens_1 = make_pipeline(LogisticRegression())\n",
    "grid_log_tf_1 = GridSearchCV(modelo_log_tf_ens_1, param_grid_log, cv = 5)\n",
    "grid_log_tf_1.fit(X_1, y)\n",
    "\n",
    "modelo_log_tf_ens_2 = make_pipeline(LogisticRegression())\n",
    "grid_log_tf_2 = GridSearchCV(modelo_log_tf_ens_2, param_grid_log, cv = 5)\n",
    "grid_log_tf_2.fit(X_2, y)\n",
    "\n",
    "modelo_log_tf_ens_3 = make_pipeline(LogisticRegression())\n",
    "grid_log_tf_3 = GridSearchCV(modelo_log_tf_ens_3, param_grid_log, cv = 5)\n",
    "grid_log_tf_3.fit(X_3, y)"
   ]
  },
  {
   "cell_type": "code",
   "execution_count": null,
   "metadata": {},
   "outputs": [],
   "source": [
    "print(\"Melhor erro de validação cruzada para USE e regressão logística, ensemble 1: {:.2f}\".format(grid_log_tf_1.best_score_))\n",
    "print(\"Melhor erro de validação cruzada para USE e regressão logística, ensemble 2: {:.2f}\".format(grid_log_tf_2.best_score_))\n",
    "print(\"Melhor erro de validação cruzada para USE e regressão logística, ensemble 3: {:.2f}\".format(grid_log_tf_3.best_score_))"
   ]
  },
  {
   "cell_type": "markdown",
   "metadata": {},
   "source": [
    "### SVM com kernel RGB"
   ]
  },
  {
   "cell_type": "code",
   "execution_count": null,
   "metadata": {},
   "outputs": [],
   "source": [
    "#modelo com TF IDF e SVC com esnemble\n",
    "param_grid_svm = {'svc__C': [0.001, 0.01, 0.1, 1, 10]}\n",
    "\n",
    "modelo_svm_tf_ens_1 = make_pipeline(StandardScaler(), SVC(gamma='auto'))\n",
    "grid_svm_tf_1 = GridSearchCV(modelo_svm_tf_ens_1, param_grid_svm, cv = 5)\n",
    "#precismamos usar to array aqui porque o escalador não funciona para matrizes\n",
    "#esparsas\n",
    "grid_svm_tf_1.fit(X_1, y)\n",
    "\n",
    "modelo_svm_tf_ens_2 = make_pipeline(StandardScaler(), SVC(gamma='auto'))\n",
    "grid_svm_tf_2 = GridSearchCV(modelo_svm_tf_ens_2, param_grid_svm, cv = 5)\n",
    "grid_svm_tf_2.fit(X_2, y)\n",
    "\n",
    "modelo_svm_tf_ens_3 = make_pipeline(StandardScaler(), SVC(gamma='auto'))\n",
    "grid_svm_tf_3 = GridSearchCV(modelo_svm_tf_ens_3, param_grid_svm, cv = 5)\n",
    "grid_svm_tf_3.fit(X_3, y)"
   ]
  },
  {
   "cell_type": "code",
   "execution_count": null,
   "metadata": {},
   "outputs": [],
   "source": [
    "print(\"Melhor erro de validação cruzada para USE e SVM com kernel RGB, ensemble 1: {:.2f}\".format(grid_svm_tf_1.best_score_))\n",
    "print(\"Melhor erro de validação cruzada para USE e SVM com kernel RGB, ensemble 2: {:.2f}\".format(grid_svm_tf_2.best_score_))\n",
    "print(\"Melhor erro de validação cruzada para USE e SVM com kernel RGB, ensemble 3: {:.2f}\".format(grid_svm_tf_3.best_score_))"
   ]
  },
  {
   "cell_type": "markdown",
   "metadata": {},
   "source": [
    "### Random forest"
   ]
  },
  {
   "cell_type": "code",
   "execution_count": null,
   "metadata": {},
   "outputs": [],
   "source": [
    "param_grid_rf = {'randomforestclassifier__n_estimators': [1, 10, 100, 1000, 10000]}\n",
    "\n",
    "#modelo com TF IDF e random forest com esnemble\n",
    "modelo_rf_tf_ens_1 = make_pipeline(RandomForestClassifier(random_state = 0))\n",
    "grid_rf_tf_1 = GridSearchCV(modelo_rf_tf_ens_1, param_grid_rf, cv = 5)\n",
    "grid_rf_tf_1.fit(X_1, y)\n",
    "\n",
    "modelo_rf_tf_ens_2 = make_pipeline(RandomForestClassifier(random_state = 0))\n",
    "grid_rf_tf_2 = GridSearchCV(modelo_rf_tf_ens_2, param_grid_rf, cv = 5)\n",
    "grid_rf_tf_2.fit(X_2, y)\n",
    "\n",
    "modelo_rf_tf_ens_3 = make_pipeline(RandomForestClassifier(random_state = 0))\n",
    "grid_rf_tf_3 = GridSearchCV(modelo_rf_tf_ens_3, param_grid_rf, cv = 5)\n",
    "grid_rf_tf_3.fit(X_3, y)"
   ]
  },
  {
   "cell_type": "code",
   "execution_count": null,
   "metadata": {},
   "outputs": [],
   "source": [
    "print(\"Melhor erro de validação cruzada para USE e random forest, ensemble 1: {:.2f}\".format(grid_rf_tf_1.best_score_))\n",
    "print(\"Melhor erro de validação cruzada para USE e random forest, ensemble 2: {:.2f}\".format(grid_rf_tf_2.best_score_))\n",
    "print(\"Melhor erro de validação cruzada para USE e random forest, ensemble 3: {:.2f}\".format(grid_rf_tf_3.best_score_))"
   ]
  },
  {
   "cell_type": "code",
   "execution_count": null,
   "metadata": {},
   "outputs": [],
   "source": []
  }
 ],
 "metadata": {
  "kernelspec": {
   "display_name": "Python 3",
   "language": "python",
   "name": "python3"
  },
  "language_info": {
   "codemirror_mode": {
    "name": "ipython",
    "version": 3
   },
   "file_extension": ".py",
   "mimetype": "text/x-python",
   "name": "python",
   "nbconvert_exporter": "python",
   "pygments_lexer": "ipython3",
   "version": "3.8.5"
  }
 },
 "nbformat": 4,
 "nbformat_minor": 4
}
